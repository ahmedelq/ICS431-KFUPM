{
 "cells": [
  {
   "cell_type": "code",
   "execution_count": 150,
   "metadata": {},
   "outputs": [],
   "source": [
    "import copy\n",
    "import statistics"
   ]
  },
  {
   "cell_type": "code",
   "execution_count": 189,
   "metadata": {},
   "outputs": [],
   "source": [
    "class Process:\n",
    "    def __init__(this, name, arrival_time, execution_time, inturrpt_time, IOTime, priority):\n",
    "        this.name = name\n",
    "        this.arrival_time = arrival_time\n",
    "        this.cpu_time = execution_time\n",
    "        this.inturrpt_time = inturrpt_time\n",
    "        this.IO_time = IOTime\n",
    "        this.priority = priority\n",
    "        this.tt = 0\n",
    "        this.w = 0\n",
    "    def __str__(this):\n",
    "        return this.name\n",
    "    def __repr__(this):\n",
    "        return \"<{}>\".format(this.name)"
   ]
  },
  {
   "cell_type": "code",
   "execution_count": 190,
   "metadata": {},
   "outputs": [],
   "source": [
    "#PN, AT, ET, IT, IOT, P\n",
    "ps = \"\"\"\n",
    "P1 0 8.0 0.0 0.0 2\n",
    "P2 1 4.0 0.0 0.0 1  \n",
    "P3 2 9.0 0.0 0.0 4 \n",
    "P4 3 5.0 0.0 0.0 3\n",
    "\"\"\""
   ]
  },
  {
   "cell_type": "code",
   "execution_count": 191,
   "metadata": {},
   "outputs": [
    {
     "name": "stdout",
     "output_type": "stream",
     "text": [
      "[<P1>, <P2>, <P3>, <P4>]\n"
     ]
    }
   ],
   "source": [
    "res = []\n",
    "for proc in ps.split(\"\\n\"):\n",
    "    p = proc.split(\" \")\n",
    "    p = list(filter(len, p))\n",
    "    if p:\n",
    "        p = p[:1] + list(map(float, p[1:]))\n",
    "        res.append( Process(p[0], p[1], p[2], p[3], p[4], p[5]) )\n",
    "        \n",
    "print(res)"
   ]
  },
  {
   "cell_type": "code",
   "execution_count": null,
   "metadata": {},
   "outputs": [],
   "source": []
  },
  {
   "cell_type": "code",
   "execution_count": 192,
   "metadata": {},
   "outputs": [
    {
     "name": "stdout",
     "output_type": "stream",
     "text": [
      "FCFS SJF\n",
      "\n",
      "#\tWaiting\tt(CPU)\tt(all)\n",
      "P1\t0.0\t8.0\t8.0\n",
      "P2\t7.0\t11.0\t11.0\n",
      "P3\t10.0\t19.0\t19.0\n",
      "P4\t18.0\t23.0\t23.0\n",
      "\n",
      "Avg. completion: 15.25\n",
      "Stdv. completion: 6.946221994724902\n",
      "\n",
      "Scheduling Order:\n",
      "P4 P1 P5 P2 P5 P1 P3\n"
     ]
    }
   ],
   "source": [
    "fcfs = [copy.deepcopy(p) for p in res]\n",
    "fcfs = sorted(fcfs, key=lambda p: p.arrival_time)\n",
    "\n",
    "ft = 0\n",
    "for proc in fcfs:\n",
    "    proc.w += ft - proc.arrival_time #waiting time\n",
    "    ft = ft + proc.cpu_time #finish from cpu\n",
    "    proc.tt += ft - proc.arrival_time\n",
    "\n",
    "\n",
    "    \n",
    "print(\"FCFS SJF\\n\")\n",
    "print(\"#\\tWaiting\\tt(CPU)\\tt(all)\")\n",
    "for p in fcfs:\n",
    "    print(p, p.w, p.tt, p.tt+p.inturrpt_time+p.IO_time, sep=\"\\t\")\n",
    "\n",
    "print(\"\\nAvg. completion:\", sum(p.tt for p in fcfs)/len(fcfs))\n",
    "print(\"Stdv. completion:\", statistics.stdev(p.tt for p in fcfs) )\n",
    "print(\"\\nScheduling Order:\")\n",
    "print(\" \".join(p[0].name for p in finished))"
   ]
  },
  {
   "cell_type": "code",
   "execution_count": 193,
   "metadata": {},
   "outputs": [
    {
     "data": {
      "text/plain": [
       "[1.0, 2.0, 3.0]"
      ]
     },
     "execution_count": 193,
     "metadata": {},
     "output_type": "execute_result"
    }
   ],
   "source": [
    "sjf = [copy.deepcopy(p) for p in res]\n",
    "sjf = sorted(sjf, key=lambda p: (p.arrival_time, p.cpu_time))\n",
    "sjf_arrv = sorted([p.arrival_time for p in sjf])\n",
    "sjf_arrv.remove(0)\n",
    "sjf_arrv\n"
   ]
  },
  {
   "cell_type": "code",
   "execution_count": 194,
   "metadata": {},
   "outputs": [],
   "source": [
    "def sch_job(jobs, job, ct):\n",
    "    if jobs and jobs[-1][0] == job: \n",
    "        jobs[-1] = (job, ct)\n",
    "    else:\n",
    "        jobs.append( (job, ct) )\n",
    "        \n",
    "def inc_wt(jobs, current_proc, time_amt, ct):\n",
    "    for p in jobs:\n",
    "        if p != current_proc and p.arrival_time <= ct and p.cpu_time:\n",
    "            p.w += time_amt\n",
    "    "
   ]
  },
  {
   "cell_type": "code",
   "execution_count": 195,
   "metadata": {},
   "outputs": [],
   "source": [
    "ct = 0\n",
    "proc = sjf[0]\n",
    "finished = []\n",
    "while(sjf_arrv):\n",
    "    nat = sjf_arrv.pop(0)\n",
    "    sch_job(finished, proc, ct)\n",
    "    if(proc.cpu_time < (nat-ct) ):\n",
    "        sjf_arrv = [nat] + sjf_arrv\n",
    "        inc_wt(sjf, proc, proc.cpu_time, ct) #increse waiting time for other processes\n",
    "        \n",
    "        ct += proc.cpu_time\n",
    "        proc.cpu_time = 0\n",
    "        proc.tt = ct - proc.arrival_time\n",
    "    else:\n",
    "        inc_wt(sjf, proc, (nat - ct), ct)\n",
    "        proc.cpu_time -= nat-ct\n",
    "        ct = nat\n",
    "    proc = min(filter(lambda p: p.arrival_time <= ct and p.cpu_time !=0, sjf), key=lambda p:p.cpu_time)\n",
    "\n",
    "\n"
   ]
  },
  {
   "cell_type": "code",
   "execution_count": 196,
   "metadata": {},
   "outputs": [],
   "source": [
    "sjf = sorted(sjf, key=lambda p: p.cpu_time)\n",
    "for proc in sjf:\n",
    "    if not proc.cpu_time:continue\n",
    "    \n",
    "    sch_job(finished, proc, ct)\n",
    "    ct += proc.cpu_time\n",
    "    for p in sjf:\n",
    "        if p.cpu_time and p!=proc:\n",
    "            p.w += proc.cpu_time\n",
    "    \n",
    "    proc.tt = ct - proc.arrival_time \n",
    "    proc.cpu_time = 0\n",
    "\n",
    "\n"
   ]
  },
  {
   "cell_type": "code",
   "execution_count": 197,
   "metadata": {},
   "outputs": [
    {
     "name": "stdout",
     "output_type": "stream",
     "text": [
      "Preemptive SJF\n",
      "\n",
      "#\tWaiting\tt(CPU)\tt(all)\n",
      "P1\t9.0\t17.0\t17.0\n",
      "P2\t0\t4.0\t4.0\n",
      "P3\t15.0\t24.0\t24.0\n",
      "P4\t2.0\t7.0\t7.0\n",
      "\n",
      "Avg. completion: 13.0\n",
      "Stdv. completion: 9.201449161228174\n",
      "\n",
      "Scheduling Order:\n",
      "P1 P2 P4 P1 P3\n",
      "[(<P1>, 0), (<P2>, 3.0), (<P4>, 5.0), (<P1>, 10.0), (<P3>, 17.0)]\n"
     ]
    }
   ],
   "source": [
    "print(\"Preemptive SJF\\n\")\n",
    "print(\"#\\tWaiting\\tt(CPU)\\tt(all)\")\n",
    "sjf.sort(key=lambda p: p.name)\n",
    "for p in sjf:\n",
    "    print(p, p.w, p.tt, p.tt+p.inturrpt_time+p.IO_time, sep=\"\\t\")\n",
    "\n",
    "print(\"\\nAvg. completion:\", sum(p.tt for p in sjf)/len(sjf))\n",
    "print(\"Stdv. completion:\", statistics.stdev(p.tt for p in sjf) )\n",
    "print(\"\\nScheduling Order:\")\n",
    "print(\" \".join(p[0].name for p in finished))\n",
    "print(finished)"
   ]
  },
  {
   "cell_type": "code",
   "execution_count": 222,
   "metadata": {},
   "outputs": [
    {
     "ename": "SyntaxError",
     "evalue": "invalid syntax (<ipython-input-222-86779cfb1f2e>, line 3)",
     "output_type": "error",
     "traceback": [
      "\u001b[0;36m  File \u001b[0;32m\"<ipython-input-222-86779cfb1f2e>\"\u001b[0;36m, line \u001b[0;32m3\u001b[0m\n\u001b[0;31m    //int(jobs, wt)\u001b[0m\n\u001b[0m     ^\u001b[0m\n\u001b[0;31mSyntaxError\u001b[0m\u001b[0;31m:\u001b[0m invalid syntax\n"
     ]
    }
   ],
   "source": [
    "#       RR\n",
    "def inc_rr_wt(jobs, wt):\n",
    "    #print(jobs, wt)\n",
    "    for p in jobs:\n",
    "        p.w += wt\n",
    "\n",
    "\n",
    "def rr_sch(jobs, quantum):\n",
    "    rr_jobs = [copy.deepcopy(p) for p in jobs]\n",
    "    rr_jobs.sort(key=lambda p: (p.arrival_time, p.priority) )\n",
    "    print(rr_jobs)\n",
    "    ct = 0\n",
    "    finished = []\n",
    "    proc_queue = [ rr_jobs[0] ]\n",
    "    total_ex_time = sum(p.cpu_time for p in rr_jobs)\n",
    "    while( proc_queue ):\n",
    "        \n",
    "        np = proc_queue.pop(0)\n",
    "        print(np)\n",
    "        sch_job(finished, np, ct)\n",
    "        \n",
    "        time_slice = min(quantum, np.cpu_time) #quantum/remaining cpu_time \n",
    "        inc_rr_wt(proc_queue, time_slice)\n",
    "        ct += time_slice\n",
    "        np.cpu_time -= time_slice\n",
    "        \n",
    "        \n",
    "        for p in rr_jobs:\n",
    "            if p != np and p.cpu_time and p.arrival_time <= ct and p not in proc_queue:\n",
    "                proc_queue.append(p)\n",
    "        \n",
    "        if np.cpu_time:\n",
    "            proc_queue.append(np)\n",
    "        else:\n",
    "            np.tt = ct - np.arrival_time\n",
    "    \n",
    "    print(\"RR\\n\")\n",
    "    print(\"#\\tWaiting\\tt(CPU)\\tt(all)\")\n",
    "    rr_jobs.sort(key=lambda p: p.name)\n",
    "    for p in rr_jobs:\n",
    "        print(p, p.w, p.tt, p.tt+p.inturrpt_time+p.IO_time, sep=\"\\t\")\n",
    "\n",
    "    print(\"\\nAvg. completion:\", sum(p.tt for p in rr_jobs)/len(rr_jobs))\n",
    "    print(\"Avg. wait:\", sum(p.w for p in rr_jobs)/len(rr_jobs))\n",
    "    print(\"Stdv. completion:\", statistics.stdev(p.tt for p in rr_jobs) )\n",
    "    print(\"\\nScheduling Order:\")\n",
    "    print(\" \".join(p[0].name for p in finished))\n",
    "    "
   ]
  },
  {
   "cell_type": "code",
   "execution_count": 221,
   "metadata": {},
   "outputs": [
    {
     "name": "stdout",
     "output_type": "stream",
     "text": [
      "[<P1>, <P2>, <P3>, <P4>]\n",
      "[] 4\n",
      "[<P3>, <P4>, <P1>] 4\n",
      "[<P4>, <P1>] 4\n",
      "[<P1>, <P3>] 4\n",
      "[<P3>, <P4>] 4\n",
      "[<P4>] 4\n",
      "[<P3>] 1.0\n",
      "[] 1.0\n",
      "RR\n",
      "\n",
      "#\tWaiting\tt(CPU)\tt(all)\n",
      "P1\t12\t20.0\t20.0\n",
      "P2\t0\t7.0\t7.0\n",
      "P3\t13.0\t24.0\t24.0\n",
      "P4\t16\t22.0\t22.0\n",
      "\n",
      "Avg. completion: 18.25\n",
      "Avg. wait: 10.25\n",
      "Stdv. completion: 7.675719293112969\n",
      "\n",
      "Scheduling Order:\n",
      "P1 P2 P3 P4 P1 P3 P4 P3\n"
     ]
    }
   ],
   "source": [
    "rr_sch(res, 4)"
   ]
  },
  {
   "cell_type": "code",
   "execution_count": null,
   "metadata": {},
   "outputs": [],
   "source": []
  }
 ],
 "metadata": {
  "kernelspec": {
   "display_name": "Python 3",
   "language": "python",
   "name": "python3"
  },
  "language_info": {
   "codemirror_mode": {
    "name": "ipython",
    "version": 3
   },
   "file_extension": ".py",
   "mimetype": "text/x-python",
   "name": "python",
   "nbconvert_exporter": "python",
   "pygments_lexer": "ipython3",
   "version": "3.7.4"
  }
 },
 "nbformat": 4,
 "nbformat_minor": 2
}
